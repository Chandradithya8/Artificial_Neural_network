{
  "nbformat": 4,
  "nbformat_minor": 0,
  "metadata": {
    "colab": {
      "name": "ANN.ipynb",
      "provenance": [],
      "collapsed_sections": [],
      "authorship_tag": "ABX9TyO55sQxnlTL6Mn9i61RACIB",
      "include_colab_link": true
    },
    "kernelspec": {
      "name": "python3",
      "display_name": "Python 3"
    }
  },
  "cells": [
    {
      "cell_type": "markdown",
      "metadata": {
        "id": "view-in-github",
        "colab_type": "text"
      },
      "source": [
        "<a href=\"https://colab.research.google.com/github/Chandradithya8/Artificial_Neural_network/blob/main/ANN.ipynb\" target=\"_parent\"><img src=\"https://colab.research.google.com/assets/colab-badge.svg\" alt=\"Open In Colab\"/></a>"
      ]
    },
    {
      "cell_type": "code",
      "metadata": {
        "id": "DxzeQeO4fBzJ",
        "outputId": "8a2302d6-7b6c-421c-c96b-d107560e8204",
        "colab": {
          "base_uri": "https://localhost:8080/",
          "height": 216
        }
      },
      "source": [
        "import pandas as pd\n",
        "df=pd.read_csv(\"/content/Churn_Modelling.csv\")\n",
        "df.head()"
      ],
      "execution_count": 1,
      "outputs": [
        {
          "output_type": "execute_result",
          "data": {
            "text/html": [
              "<div>\n",
              "<style scoped>\n",
              "    .dataframe tbody tr th:only-of-type {\n",
              "        vertical-align: middle;\n",
              "    }\n",
              "\n",
              "    .dataframe tbody tr th {\n",
              "        vertical-align: top;\n",
              "    }\n",
              "\n",
              "    .dataframe thead th {\n",
              "        text-align: right;\n",
              "    }\n",
              "</style>\n",
              "<table border=\"1\" class=\"dataframe\">\n",
              "  <thead>\n",
              "    <tr style=\"text-align: right;\">\n",
              "      <th></th>\n",
              "      <th>RowNumber</th>\n",
              "      <th>CustomerId</th>\n",
              "      <th>Surname</th>\n",
              "      <th>CreditScore</th>\n",
              "      <th>Geography</th>\n",
              "      <th>Gender</th>\n",
              "      <th>Age</th>\n",
              "      <th>Tenure</th>\n",
              "      <th>Balance</th>\n",
              "      <th>NumOfProducts</th>\n",
              "      <th>HasCrCard</th>\n",
              "      <th>IsActiveMember</th>\n",
              "      <th>EstimatedSalary</th>\n",
              "      <th>Exited</th>\n",
              "    </tr>\n",
              "  </thead>\n",
              "  <tbody>\n",
              "    <tr>\n",
              "      <th>0</th>\n",
              "      <td>1</td>\n",
              "      <td>15634602</td>\n",
              "      <td>Hargrave</td>\n",
              "      <td>619</td>\n",
              "      <td>France</td>\n",
              "      <td>Female</td>\n",
              "      <td>42</td>\n",
              "      <td>2</td>\n",
              "      <td>0.00</td>\n",
              "      <td>1</td>\n",
              "      <td>1</td>\n",
              "      <td>1</td>\n",
              "      <td>101348.88</td>\n",
              "      <td>1</td>\n",
              "    </tr>\n",
              "    <tr>\n",
              "      <th>1</th>\n",
              "      <td>2</td>\n",
              "      <td>15647311</td>\n",
              "      <td>Hill</td>\n",
              "      <td>608</td>\n",
              "      <td>Spain</td>\n",
              "      <td>Female</td>\n",
              "      <td>41</td>\n",
              "      <td>1</td>\n",
              "      <td>83807.86</td>\n",
              "      <td>1</td>\n",
              "      <td>0</td>\n",
              "      <td>1</td>\n",
              "      <td>112542.58</td>\n",
              "      <td>0</td>\n",
              "    </tr>\n",
              "    <tr>\n",
              "      <th>2</th>\n",
              "      <td>3</td>\n",
              "      <td>15619304</td>\n",
              "      <td>Onio</td>\n",
              "      <td>502</td>\n",
              "      <td>France</td>\n",
              "      <td>Female</td>\n",
              "      <td>42</td>\n",
              "      <td>8</td>\n",
              "      <td>159660.80</td>\n",
              "      <td>3</td>\n",
              "      <td>1</td>\n",
              "      <td>0</td>\n",
              "      <td>113931.57</td>\n",
              "      <td>1</td>\n",
              "    </tr>\n",
              "    <tr>\n",
              "      <th>3</th>\n",
              "      <td>4</td>\n",
              "      <td>15701354</td>\n",
              "      <td>Boni</td>\n",
              "      <td>699</td>\n",
              "      <td>France</td>\n",
              "      <td>Female</td>\n",
              "      <td>39</td>\n",
              "      <td>1</td>\n",
              "      <td>0.00</td>\n",
              "      <td>2</td>\n",
              "      <td>0</td>\n",
              "      <td>0</td>\n",
              "      <td>93826.63</td>\n",
              "      <td>0</td>\n",
              "    </tr>\n",
              "    <tr>\n",
              "      <th>4</th>\n",
              "      <td>5</td>\n",
              "      <td>15737888</td>\n",
              "      <td>Mitchell</td>\n",
              "      <td>850</td>\n",
              "      <td>Spain</td>\n",
              "      <td>Female</td>\n",
              "      <td>43</td>\n",
              "      <td>2</td>\n",
              "      <td>125510.82</td>\n",
              "      <td>1</td>\n",
              "      <td>1</td>\n",
              "      <td>1</td>\n",
              "      <td>79084.10</td>\n",
              "      <td>0</td>\n",
              "    </tr>\n",
              "  </tbody>\n",
              "</table>\n",
              "</div>"
            ],
            "text/plain": [
              "   RowNumber  CustomerId   Surname  ...  IsActiveMember EstimatedSalary Exited\n",
              "0          1    15634602  Hargrave  ...               1       101348.88      1\n",
              "1          2    15647311      Hill  ...               1       112542.58      0\n",
              "2          3    15619304      Onio  ...               0       113931.57      1\n",
              "3          4    15701354      Boni  ...               0        93826.63      0\n",
              "4          5    15737888  Mitchell  ...               1        79084.10      0\n",
              "\n",
              "[5 rows x 14 columns]"
            ]
          },
          "metadata": {
            "tags": []
          },
          "execution_count": 1
        }
      ]
    },
    {
      "cell_type": "code",
      "metadata": {
        "id": "YaEZ37TPfaAj"
      },
      "source": [
        "x=df.iloc[:,3:13]\n",
        "y=df['Exited']"
      ],
      "execution_count": 2,
      "outputs": []
    },
    {
      "cell_type": "code",
      "metadata": {
        "id": "fdIj02TtfuMR",
        "outputId": "28781002-629c-4998-c03c-ca446cbbf5a0",
        "colab": {
          "base_uri": "https://localhost:8080/",
          "height": 196
        }
      },
      "source": [
        "a=pd.get_dummies(x[['Geography','Gender']],drop_first=True)\n",
        "a.head()"
      ],
      "execution_count": 3,
      "outputs": [
        {
          "output_type": "execute_result",
          "data": {
            "text/html": [
              "<div>\n",
              "<style scoped>\n",
              "    .dataframe tbody tr th:only-of-type {\n",
              "        vertical-align: middle;\n",
              "    }\n",
              "\n",
              "    .dataframe tbody tr th {\n",
              "        vertical-align: top;\n",
              "    }\n",
              "\n",
              "    .dataframe thead th {\n",
              "        text-align: right;\n",
              "    }\n",
              "</style>\n",
              "<table border=\"1\" class=\"dataframe\">\n",
              "  <thead>\n",
              "    <tr style=\"text-align: right;\">\n",
              "      <th></th>\n",
              "      <th>Geography_Germany</th>\n",
              "      <th>Geography_Spain</th>\n",
              "      <th>Gender_Male</th>\n",
              "    </tr>\n",
              "  </thead>\n",
              "  <tbody>\n",
              "    <tr>\n",
              "      <th>0</th>\n",
              "      <td>0</td>\n",
              "      <td>0</td>\n",
              "      <td>0</td>\n",
              "    </tr>\n",
              "    <tr>\n",
              "      <th>1</th>\n",
              "      <td>0</td>\n",
              "      <td>1</td>\n",
              "      <td>0</td>\n",
              "    </tr>\n",
              "    <tr>\n",
              "      <th>2</th>\n",
              "      <td>0</td>\n",
              "      <td>0</td>\n",
              "      <td>0</td>\n",
              "    </tr>\n",
              "    <tr>\n",
              "      <th>3</th>\n",
              "      <td>0</td>\n",
              "      <td>0</td>\n",
              "      <td>0</td>\n",
              "    </tr>\n",
              "    <tr>\n",
              "      <th>4</th>\n",
              "      <td>0</td>\n",
              "      <td>1</td>\n",
              "      <td>0</td>\n",
              "    </tr>\n",
              "  </tbody>\n",
              "</table>\n",
              "</div>"
            ],
            "text/plain": [
              "   Geography_Germany  Geography_Spain  Gender_Male\n",
              "0                  0                0            0\n",
              "1                  0                1            0\n",
              "2                  0                0            0\n",
              "3                  0                0            0\n",
              "4                  0                1            0"
            ]
          },
          "metadata": {
            "tags": []
          },
          "execution_count": 3
        }
      ]
    },
    {
      "cell_type": "code",
      "metadata": {
        "id": "JU_tKt7xgbLB",
        "outputId": "8be5f8f3-2037-420b-bea1-d5c7c370dc1e",
        "colab": {
          "base_uri": "https://localhost:8080/",
          "height": 216
        }
      },
      "source": [
        "x=pd.concat([x,a],axis=1)\n",
        "x.head()"
      ],
      "execution_count": 4,
      "outputs": [
        {
          "output_type": "execute_result",
          "data": {
            "text/html": [
              "<div>\n",
              "<style scoped>\n",
              "    .dataframe tbody tr th:only-of-type {\n",
              "        vertical-align: middle;\n",
              "    }\n",
              "\n",
              "    .dataframe tbody tr th {\n",
              "        vertical-align: top;\n",
              "    }\n",
              "\n",
              "    .dataframe thead th {\n",
              "        text-align: right;\n",
              "    }\n",
              "</style>\n",
              "<table border=\"1\" class=\"dataframe\">\n",
              "  <thead>\n",
              "    <tr style=\"text-align: right;\">\n",
              "      <th></th>\n",
              "      <th>CreditScore</th>\n",
              "      <th>Geography</th>\n",
              "      <th>Gender</th>\n",
              "      <th>Age</th>\n",
              "      <th>Tenure</th>\n",
              "      <th>Balance</th>\n",
              "      <th>NumOfProducts</th>\n",
              "      <th>HasCrCard</th>\n",
              "      <th>IsActiveMember</th>\n",
              "      <th>EstimatedSalary</th>\n",
              "      <th>Geography_Germany</th>\n",
              "      <th>Geography_Spain</th>\n",
              "      <th>Gender_Male</th>\n",
              "    </tr>\n",
              "  </thead>\n",
              "  <tbody>\n",
              "    <tr>\n",
              "      <th>0</th>\n",
              "      <td>619</td>\n",
              "      <td>France</td>\n",
              "      <td>Female</td>\n",
              "      <td>42</td>\n",
              "      <td>2</td>\n",
              "      <td>0.00</td>\n",
              "      <td>1</td>\n",
              "      <td>1</td>\n",
              "      <td>1</td>\n",
              "      <td>101348.88</td>\n",
              "      <td>0</td>\n",
              "      <td>0</td>\n",
              "      <td>0</td>\n",
              "    </tr>\n",
              "    <tr>\n",
              "      <th>1</th>\n",
              "      <td>608</td>\n",
              "      <td>Spain</td>\n",
              "      <td>Female</td>\n",
              "      <td>41</td>\n",
              "      <td>1</td>\n",
              "      <td>83807.86</td>\n",
              "      <td>1</td>\n",
              "      <td>0</td>\n",
              "      <td>1</td>\n",
              "      <td>112542.58</td>\n",
              "      <td>0</td>\n",
              "      <td>1</td>\n",
              "      <td>0</td>\n",
              "    </tr>\n",
              "    <tr>\n",
              "      <th>2</th>\n",
              "      <td>502</td>\n",
              "      <td>France</td>\n",
              "      <td>Female</td>\n",
              "      <td>42</td>\n",
              "      <td>8</td>\n",
              "      <td>159660.80</td>\n",
              "      <td>3</td>\n",
              "      <td>1</td>\n",
              "      <td>0</td>\n",
              "      <td>113931.57</td>\n",
              "      <td>0</td>\n",
              "      <td>0</td>\n",
              "      <td>0</td>\n",
              "    </tr>\n",
              "    <tr>\n",
              "      <th>3</th>\n",
              "      <td>699</td>\n",
              "      <td>France</td>\n",
              "      <td>Female</td>\n",
              "      <td>39</td>\n",
              "      <td>1</td>\n",
              "      <td>0.00</td>\n",
              "      <td>2</td>\n",
              "      <td>0</td>\n",
              "      <td>0</td>\n",
              "      <td>93826.63</td>\n",
              "      <td>0</td>\n",
              "      <td>0</td>\n",
              "      <td>0</td>\n",
              "    </tr>\n",
              "    <tr>\n",
              "      <th>4</th>\n",
              "      <td>850</td>\n",
              "      <td>Spain</td>\n",
              "      <td>Female</td>\n",
              "      <td>43</td>\n",
              "      <td>2</td>\n",
              "      <td>125510.82</td>\n",
              "      <td>1</td>\n",
              "      <td>1</td>\n",
              "      <td>1</td>\n",
              "      <td>79084.10</td>\n",
              "      <td>0</td>\n",
              "      <td>1</td>\n",
              "      <td>0</td>\n",
              "    </tr>\n",
              "  </tbody>\n",
              "</table>\n",
              "</div>"
            ],
            "text/plain": [
              "   CreditScore Geography  ... Geography_Spain  Gender_Male\n",
              "0          619    France  ...               0            0\n",
              "1          608     Spain  ...               1            0\n",
              "2          502    France  ...               0            0\n",
              "3          699    France  ...               0            0\n",
              "4          850     Spain  ...               1            0\n",
              "\n",
              "[5 rows x 13 columns]"
            ]
          },
          "metadata": {
            "tags": []
          },
          "execution_count": 4
        }
      ]
    },
    {
      "cell_type": "code",
      "metadata": {
        "id": "tEyRNKiegm3C",
        "outputId": "92ebad8d-f2a9-4b75-9bb5-06cbe4d0d0c5",
        "colab": {
          "base_uri": "https://localhost:8080/",
          "height": 216
        }
      },
      "source": [
        "x=x.drop(['Geography','Gender'],axis=1)\n",
        "x.head()"
      ],
      "execution_count": 5,
      "outputs": [
        {
          "output_type": "execute_result",
          "data": {
            "text/html": [
              "<div>\n",
              "<style scoped>\n",
              "    .dataframe tbody tr th:only-of-type {\n",
              "        vertical-align: middle;\n",
              "    }\n",
              "\n",
              "    .dataframe tbody tr th {\n",
              "        vertical-align: top;\n",
              "    }\n",
              "\n",
              "    .dataframe thead th {\n",
              "        text-align: right;\n",
              "    }\n",
              "</style>\n",
              "<table border=\"1\" class=\"dataframe\">\n",
              "  <thead>\n",
              "    <tr style=\"text-align: right;\">\n",
              "      <th></th>\n",
              "      <th>CreditScore</th>\n",
              "      <th>Age</th>\n",
              "      <th>Tenure</th>\n",
              "      <th>Balance</th>\n",
              "      <th>NumOfProducts</th>\n",
              "      <th>HasCrCard</th>\n",
              "      <th>IsActiveMember</th>\n",
              "      <th>EstimatedSalary</th>\n",
              "      <th>Geography_Germany</th>\n",
              "      <th>Geography_Spain</th>\n",
              "      <th>Gender_Male</th>\n",
              "    </tr>\n",
              "  </thead>\n",
              "  <tbody>\n",
              "    <tr>\n",
              "      <th>0</th>\n",
              "      <td>619</td>\n",
              "      <td>42</td>\n",
              "      <td>2</td>\n",
              "      <td>0.00</td>\n",
              "      <td>1</td>\n",
              "      <td>1</td>\n",
              "      <td>1</td>\n",
              "      <td>101348.88</td>\n",
              "      <td>0</td>\n",
              "      <td>0</td>\n",
              "      <td>0</td>\n",
              "    </tr>\n",
              "    <tr>\n",
              "      <th>1</th>\n",
              "      <td>608</td>\n",
              "      <td>41</td>\n",
              "      <td>1</td>\n",
              "      <td>83807.86</td>\n",
              "      <td>1</td>\n",
              "      <td>0</td>\n",
              "      <td>1</td>\n",
              "      <td>112542.58</td>\n",
              "      <td>0</td>\n",
              "      <td>1</td>\n",
              "      <td>0</td>\n",
              "    </tr>\n",
              "    <tr>\n",
              "      <th>2</th>\n",
              "      <td>502</td>\n",
              "      <td>42</td>\n",
              "      <td>8</td>\n",
              "      <td>159660.80</td>\n",
              "      <td>3</td>\n",
              "      <td>1</td>\n",
              "      <td>0</td>\n",
              "      <td>113931.57</td>\n",
              "      <td>0</td>\n",
              "      <td>0</td>\n",
              "      <td>0</td>\n",
              "    </tr>\n",
              "    <tr>\n",
              "      <th>3</th>\n",
              "      <td>699</td>\n",
              "      <td>39</td>\n",
              "      <td>1</td>\n",
              "      <td>0.00</td>\n",
              "      <td>2</td>\n",
              "      <td>0</td>\n",
              "      <td>0</td>\n",
              "      <td>93826.63</td>\n",
              "      <td>0</td>\n",
              "      <td>0</td>\n",
              "      <td>0</td>\n",
              "    </tr>\n",
              "    <tr>\n",
              "      <th>4</th>\n",
              "      <td>850</td>\n",
              "      <td>43</td>\n",
              "      <td>2</td>\n",
              "      <td>125510.82</td>\n",
              "      <td>1</td>\n",
              "      <td>1</td>\n",
              "      <td>1</td>\n",
              "      <td>79084.10</td>\n",
              "      <td>0</td>\n",
              "      <td>1</td>\n",
              "      <td>0</td>\n",
              "    </tr>\n",
              "  </tbody>\n",
              "</table>\n",
              "</div>"
            ],
            "text/plain": [
              "   CreditScore  Age  Tenure  ...  Geography_Germany  Geography_Spain  Gender_Male\n",
              "0          619   42       2  ...                  0                0            0\n",
              "1          608   41       1  ...                  0                1            0\n",
              "2          502   42       8  ...                  0                0            0\n",
              "3          699   39       1  ...                  0                0            0\n",
              "4          850   43       2  ...                  0                1            0\n",
              "\n",
              "[5 rows x 11 columns]"
            ]
          },
          "metadata": {
            "tags": []
          },
          "execution_count": 5
        }
      ]
    },
    {
      "cell_type": "code",
      "metadata": {
        "id": "dnCP7EnehY_j"
      },
      "source": [
        "from sklearn.model_selection import train_test_split\n",
        "x_train,x_test,y_train,y_test=train_test_split(x,y,test_size=0.2)"
      ],
      "execution_count": 6,
      "outputs": []
    },
    {
      "cell_type": "code",
      "metadata": {
        "id": "VG50BcsNhvM5"
      },
      "source": [
        "from sklearn.preprocessing import StandardScaler\n",
        "scaler=StandardScaler()"
      ],
      "execution_count": 7,
      "outputs": []
    },
    {
      "cell_type": "code",
      "metadata": {
        "id": "2LaiZ8Y3h7fP"
      },
      "source": [
        "x_train=scaler.fit_transform(x_train)\n",
        "x_test=scaler.fit_transform(x_test)"
      ],
      "execution_count": 8,
      "outputs": []
    },
    {
      "cell_type": "code",
      "metadata": {
        "id": "TV6Vg8rniXmR"
      },
      "source": [
        "from keras.models import Sequential\n",
        "from keras.layers import Dense\n",
        "from keras.layers import ReLU,LeakyReLU,PReLU,ELU\n",
        "from keras.layers import Dropout"
      ],
      "execution_count": 10,
      "outputs": []
    },
    {
      "cell_type": "code",
      "metadata": {
        "id": "_MPLTWZxjANp"
      },
      "source": [
        "classifier=Sequential()"
      ],
      "execution_count": 11,
      "outputs": []
    },
    {
      "cell_type": "code",
      "metadata": {
        "id": "GQsqaA0sjJbJ"
      },
      "source": [
        "classifier.add(Dense(units = 6, kernel_initializer = 'he_uniform',activation='relu',input_dim = 11))# inpur layer and hidden layer 1\n",
        "classifier.add(Dense(units = 6, kernel_initializer = 'he_uniform',activation='relu'))# hidden layer 2\n",
        "classifier.add(Dense(units = 1, kernel_initializer = 'glorot_uniform',activation='sigmoid'))# output layer"
      ],
      "execution_count": 15,
      "outputs": []
    },
    {
      "cell_type": "code",
      "metadata": {
        "id": "8LSyaBOplaC_"
      },
      "source": [
        "classifier.compile(optimizer='adam',loss='binary_crossentropy',metrics='accuracy')"
      ],
      "execution_count": 16,
      "outputs": []
    },
    {
      "cell_type": "code",
      "metadata": {
        "id": "LRh7fZ4NmFCB",
        "outputId": "d5501435-8723-463e-9a8b-19f30b4eac0f",
        "colab": {
          "base_uri": "https://localhost:8080/"
        }
      },
      "source": [
        "model=classifier.fit(x_train,y_train,validation_split=0.33,batch_size=10,epochs=100)\n",
        "model"
      ],
      "execution_count": 17,
      "outputs": [
        {
          "output_type": "stream",
          "text": [
            "Epoch 1/100\n",
            "536/536 [==============================] - 1s 2ms/step - loss: 0.5230 - accuracy: 0.7811 - val_loss: 0.4873 - val_accuracy: 0.7899\n",
            "Epoch 2/100\n",
            "536/536 [==============================] - 1s 1ms/step - loss: 0.4543 - accuracy: 0.8052 - val_loss: 0.4630 - val_accuracy: 0.7914\n",
            "Epoch 3/100\n",
            "536/536 [==============================] - 1s 1ms/step - loss: 0.4320 - accuracy: 0.8155 - val_loss: 0.4479 - val_accuracy: 0.7952\n",
            "Epoch 4/100\n",
            "536/536 [==============================] - 1s 1ms/step - loss: 0.4167 - accuracy: 0.8222 - val_loss: 0.4375 - val_accuracy: 0.7978\n",
            "Epoch 5/100\n",
            "536/536 [==============================] - 1s 1ms/step - loss: 0.4037 - accuracy: 0.8240 - val_loss: 0.4269 - val_accuracy: 0.8058\n",
            "Epoch 6/100\n",
            "536/536 [==============================] - 1s 1ms/step - loss: 0.3927 - accuracy: 0.8311 - val_loss: 0.4215 - val_accuracy: 0.8076\n",
            "Epoch 7/100\n",
            "536/536 [==============================] - 1s 1ms/step - loss: 0.3853 - accuracy: 0.8309 - val_loss: 0.4152 - val_accuracy: 0.8129\n",
            "Epoch 8/100\n",
            "536/536 [==============================] - 1s 1ms/step - loss: 0.3785 - accuracy: 0.8330 - val_loss: 0.4040 - val_accuracy: 0.8205\n",
            "Epoch 9/100\n",
            "536/536 [==============================] - 1s 1ms/step - loss: 0.3726 - accuracy: 0.8393 - val_loss: 0.4000 - val_accuracy: 0.8266\n",
            "Epoch 10/100\n",
            "536/536 [==============================] - 1s 1ms/step - loss: 0.3675 - accuracy: 0.8449 - val_loss: 0.3941 - val_accuracy: 0.8315\n",
            "Epoch 11/100\n",
            "536/536 [==============================] - 1s 1ms/step - loss: 0.3622 - accuracy: 0.8503 - val_loss: 0.3882 - val_accuracy: 0.8338\n",
            "Epoch 12/100\n",
            "536/536 [==============================] - 1s 1ms/step - loss: 0.3585 - accuracy: 0.8487 - val_loss: 0.3870 - val_accuracy: 0.8357\n",
            "Epoch 13/100\n",
            "536/536 [==============================] - 1s 1ms/step - loss: 0.3560 - accuracy: 0.8502 - val_loss: 0.3869 - val_accuracy: 0.8383\n",
            "Epoch 14/100\n",
            "536/536 [==============================] - 1s 1ms/step - loss: 0.3539 - accuracy: 0.8531 - val_loss: 0.3827 - val_accuracy: 0.8357\n",
            "Epoch 15/100\n",
            "536/536 [==============================] - 1s 1ms/step - loss: 0.3527 - accuracy: 0.8558 - val_loss: 0.3823 - val_accuracy: 0.8368\n",
            "Epoch 16/100\n",
            "536/536 [==============================] - 1s 1ms/step - loss: 0.3508 - accuracy: 0.8546 - val_loss: 0.3931 - val_accuracy: 0.8383\n",
            "Epoch 17/100\n",
            "536/536 [==============================] - 1s 1ms/step - loss: 0.3510 - accuracy: 0.8561 - val_loss: 0.3810 - val_accuracy: 0.8383\n",
            "Epoch 18/100\n",
            "536/536 [==============================] - 1s 1ms/step - loss: 0.3495 - accuracy: 0.8580 - val_loss: 0.3788 - val_accuracy: 0.8360\n",
            "Epoch 19/100\n",
            "536/536 [==============================] - 1s 1ms/step - loss: 0.3498 - accuracy: 0.8606 - val_loss: 0.3786 - val_accuracy: 0.8376\n",
            "Epoch 20/100\n",
            "536/536 [==============================] - 1s 1ms/step - loss: 0.3482 - accuracy: 0.8599 - val_loss: 0.3768 - val_accuracy: 0.8387\n",
            "Epoch 21/100\n",
            "536/536 [==============================] - 1s 1ms/step - loss: 0.3483 - accuracy: 0.8595 - val_loss: 0.3775 - val_accuracy: 0.8364\n",
            "Epoch 22/100\n",
            "536/536 [==============================] - 1s 1ms/step - loss: 0.3480 - accuracy: 0.8586 - val_loss: 0.3758 - val_accuracy: 0.8372\n",
            "Epoch 23/100\n",
            "536/536 [==============================] - 1s 1ms/step - loss: 0.3470 - accuracy: 0.8591 - val_loss: 0.3825 - val_accuracy: 0.8395\n",
            "Epoch 24/100\n",
            "536/536 [==============================] - 1s 1ms/step - loss: 0.3474 - accuracy: 0.8597 - val_loss: 0.3752 - val_accuracy: 0.8383\n",
            "Epoch 25/100\n",
            "536/536 [==============================] - 1s 1ms/step - loss: 0.3454 - accuracy: 0.8619 - val_loss: 0.3743 - val_accuracy: 0.8368\n",
            "Epoch 26/100\n",
            "536/536 [==============================] - 1s 1ms/step - loss: 0.3452 - accuracy: 0.8621 - val_loss: 0.3756 - val_accuracy: 0.8395\n",
            "Epoch 27/100\n",
            "536/536 [==============================] - 1s 1ms/step - loss: 0.3448 - accuracy: 0.8610 - val_loss: 0.3766 - val_accuracy: 0.8383\n",
            "Epoch 28/100\n",
            "536/536 [==============================] - 1s 1ms/step - loss: 0.3450 - accuracy: 0.8625 - val_loss: 0.3768 - val_accuracy: 0.8410\n",
            "Epoch 29/100\n",
            "536/536 [==============================] - 1s 1ms/step - loss: 0.3434 - accuracy: 0.8610 - val_loss: 0.3734 - val_accuracy: 0.8398\n",
            "Epoch 30/100\n",
            "536/536 [==============================] - 1s 1ms/step - loss: 0.3437 - accuracy: 0.8625 - val_loss: 0.3726 - val_accuracy: 0.8406\n",
            "Epoch 31/100\n",
            "536/536 [==============================] - 1s 1ms/step - loss: 0.3424 - accuracy: 0.8640 - val_loss: 0.3697 - val_accuracy: 0.8436\n",
            "Epoch 32/100\n",
            "536/536 [==============================] - 1s 1ms/step - loss: 0.3419 - accuracy: 0.8625 - val_loss: 0.3773 - val_accuracy: 0.8436\n",
            "Epoch 33/100\n",
            "536/536 [==============================] - 1s 1ms/step - loss: 0.3425 - accuracy: 0.8612 - val_loss: 0.3683 - val_accuracy: 0.8425\n",
            "Epoch 34/100\n",
            "536/536 [==============================] - 1s 1ms/step - loss: 0.3417 - accuracy: 0.8619 - val_loss: 0.3684 - val_accuracy: 0.8421\n",
            "Epoch 35/100\n",
            "536/536 [==============================] - 1s 1ms/step - loss: 0.3411 - accuracy: 0.8643 - val_loss: 0.3687 - val_accuracy: 0.8429\n",
            "Epoch 36/100\n",
            "536/536 [==============================] - 1s 1ms/step - loss: 0.3414 - accuracy: 0.8619 - val_loss: 0.3675 - val_accuracy: 0.8425\n",
            "Epoch 37/100\n",
            "536/536 [==============================] - 1s 1ms/step - loss: 0.3409 - accuracy: 0.8617 - val_loss: 0.3715 - val_accuracy: 0.8432\n",
            "Epoch 38/100\n",
            "536/536 [==============================] - 1s 1ms/step - loss: 0.3401 - accuracy: 0.8621 - val_loss: 0.3714 - val_accuracy: 0.8413\n",
            "Epoch 39/100\n",
            "536/536 [==============================] - 1s 1ms/step - loss: 0.3399 - accuracy: 0.8634 - val_loss: 0.3662 - val_accuracy: 0.8451\n",
            "Epoch 40/100\n",
            "536/536 [==============================] - 1s 1ms/step - loss: 0.3400 - accuracy: 0.8623 - val_loss: 0.3697 - val_accuracy: 0.8413\n",
            "Epoch 41/100\n",
            "536/536 [==============================] - 1s 1ms/step - loss: 0.3396 - accuracy: 0.8653 - val_loss: 0.3700 - val_accuracy: 0.8432\n",
            "Epoch 42/100\n",
            "536/536 [==============================] - 1s 1ms/step - loss: 0.3397 - accuracy: 0.8623 - val_loss: 0.3680 - val_accuracy: 0.8459\n",
            "Epoch 43/100\n",
            "536/536 [==============================] - 1s 1ms/step - loss: 0.3398 - accuracy: 0.8617 - val_loss: 0.3661 - val_accuracy: 0.8432\n",
            "Epoch 44/100\n",
            "536/536 [==============================] - 1s 1ms/step - loss: 0.3392 - accuracy: 0.8630 - val_loss: 0.3697 - val_accuracy: 0.8436\n",
            "Epoch 45/100\n",
            "536/536 [==============================] - 1s 1ms/step - loss: 0.3390 - accuracy: 0.8632 - val_loss: 0.3674 - val_accuracy: 0.8451\n",
            "Epoch 46/100\n",
            "536/536 [==============================] - 1s 1ms/step - loss: 0.3388 - accuracy: 0.8653 - val_loss: 0.3699 - val_accuracy: 0.8440\n",
            "Epoch 47/100\n",
            "536/536 [==============================] - 1s 1ms/step - loss: 0.3391 - accuracy: 0.8634 - val_loss: 0.3662 - val_accuracy: 0.8429\n",
            "Epoch 48/100\n",
            "536/536 [==============================] - 1s 1ms/step - loss: 0.3383 - accuracy: 0.8649 - val_loss: 0.3697 - val_accuracy: 0.8440\n",
            "Epoch 49/100\n",
            "536/536 [==============================] - 1s 1ms/step - loss: 0.3386 - accuracy: 0.8638 - val_loss: 0.3662 - val_accuracy: 0.8451\n",
            "Epoch 50/100\n",
            "536/536 [==============================] - 1s 1ms/step - loss: 0.3377 - accuracy: 0.8664 - val_loss: 0.3638 - val_accuracy: 0.8444\n",
            "Epoch 51/100\n",
            "536/536 [==============================] - 1s 1ms/step - loss: 0.3371 - accuracy: 0.8645 - val_loss: 0.3690 - val_accuracy: 0.8425\n",
            "Epoch 52/100\n",
            "536/536 [==============================] - 1s 1ms/step - loss: 0.3376 - accuracy: 0.8645 - val_loss: 0.3662 - val_accuracy: 0.8463\n",
            "Epoch 53/100\n",
            "536/536 [==============================] - 1s 1ms/step - loss: 0.3382 - accuracy: 0.8638 - val_loss: 0.3658 - val_accuracy: 0.8451\n",
            "Epoch 54/100\n",
            "536/536 [==============================] - 1s 1ms/step - loss: 0.3372 - accuracy: 0.8658 - val_loss: 0.3658 - val_accuracy: 0.8459\n",
            "Epoch 55/100\n",
            "536/536 [==============================] - 1s 2ms/step - loss: 0.3375 - accuracy: 0.8623 - val_loss: 0.3645 - val_accuracy: 0.8501\n",
            "Epoch 56/100\n",
            "536/536 [==============================] - 1s 2ms/step - loss: 0.3368 - accuracy: 0.8662 - val_loss: 0.3671 - val_accuracy: 0.8478\n",
            "Epoch 57/100\n",
            "536/536 [==============================] - 1s 2ms/step - loss: 0.3363 - accuracy: 0.8653 - val_loss: 0.3637 - val_accuracy: 0.8451\n",
            "Epoch 58/100\n",
            "536/536 [==============================] - 1s 2ms/step - loss: 0.3362 - accuracy: 0.8658 - val_loss: 0.3612 - val_accuracy: 0.8463\n",
            "Epoch 59/100\n",
            "536/536 [==============================] - 1s 2ms/step - loss: 0.3356 - accuracy: 0.8651 - val_loss: 0.3687 - val_accuracy: 0.8489\n",
            "Epoch 60/100\n",
            "536/536 [==============================] - 1s 2ms/step - loss: 0.3352 - accuracy: 0.8658 - val_loss: 0.3618 - val_accuracy: 0.8482\n",
            "Epoch 61/100\n",
            "536/536 [==============================] - 1s 2ms/step - loss: 0.3352 - accuracy: 0.8630 - val_loss: 0.3620 - val_accuracy: 0.8474\n",
            "Epoch 62/100\n",
            "536/536 [==============================] - 1s 1ms/step - loss: 0.3348 - accuracy: 0.8662 - val_loss: 0.3699 - val_accuracy: 0.8474\n",
            "Epoch 63/100\n",
            "536/536 [==============================] - 1s 1ms/step - loss: 0.3339 - accuracy: 0.8636 - val_loss: 0.3705 - val_accuracy: 0.8527\n",
            "Epoch 64/100\n",
            "536/536 [==============================] - 1s 1ms/step - loss: 0.3341 - accuracy: 0.8651 - val_loss: 0.3619 - val_accuracy: 0.8474\n",
            "Epoch 65/100\n",
            "536/536 [==============================] - 1s 1ms/step - loss: 0.3344 - accuracy: 0.8656 - val_loss: 0.3607 - val_accuracy: 0.8489\n",
            "Epoch 66/100\n",
            "536/536 [==============================] - 1s 1ms/step - loss: 0.3338 - accuracy: 0.8658 - val_loss: 0.3608 - val_accuracy: 0.8501\n",
            "Epoch 67/100\n",
            "536/536 [==============================] - 1s 1ms/step - loss: 0.3334 - accuracy: 0.8651 - val_loss: 0.3639 - val_accuracy: 0.8489\n",
            "Epoch 68/100\n",
            "536/536 [==============================] - 1s 1ms/step - loss: 0.3334 - accuracy: 0.8636 - val_loss: 0.3607 - val_accuracy: 0.8508\n",
            "Epoch 69/100\n",
            "536/536 [==============================] - 1s 1ms/step - loss: 0.3331 - accuracy: 0.8653 - val_loss: 0.3609 - val_accuracy: 0.8436\n",
            "Epoch 70/100\n",
            "536/536 [==============================] - 1s 1ms/step - loss: 0.3330 - accuracy: 0.8664 - val_loss: 0.3626 - val_accuracy: 0.8478\n",
            "Epoch 71/100\n",
            "536/536 [==============================] - 1s 1ms/step - loss: 0.3328 - accuracy: 0.8653 - val_loss: 0.3626 - val_accuracy: 0.8466\n",
            "Epoch 72/100\n",
            "536/536 [==============================] - 1s 1ms/step - loss: 0.3331 - accuracy: 0.8642 - val_loss: 0.3622 - val_accuracy: 0.8459\n",
            "Epoch 73/100\n",
            "536/536 [==============================] - 1s 1ms/step - loss: 0.3329 - accuracy: 0.8658 - val_loss: 0.3624 - val_accuracy: 0.8504\n",
            "Epoch 74/100\n",
            "536/536 [==============================] - 1s 1ms/step - loss: 0.3323 - accuracy: 0.8666 - val_loss: 0.3625 - val_accuracy: 0.8497\n",
            "Epoch 75/100\n",
            "536/536 [==============================] - 1s 1ms/step - loss: 0.3325 - accuracy: 0.8658 - val_loss: 0.3625 - val_accuracy: 0.8482\n",
            "Epoch 76/100\n",
            "536/536 [==============================] - 1s 1ms/step - loss: 0.3325 - accuracy: 0.8645 - val_loss: 0.3612 - val_accuracy: 0.8466\n",
            "Epoch 77/100\n",
            "536/536 [==============================] - 1s 1ms/step - loss: 0.3328 - accuracy: 0.8647 - val_loss: 0.3631 - val_accuracy: 0.8504\n",
            "Epoch 78/100\n",
            "536/536 [==============================] - 1s 1ms/step - loss: 0.3324 - accuracy: 0.8653 - val_loss: 0.3613 - val_accuracy: 0.8485\n",
            "Epoch 79/100\n",
            "536/536 [==============================] - 1s 1ms/step - loss: 0.3318 - accuracy: 0.8664 - val_loss: 0.3622 - val_accuracy: 0.8485\n",
            "Epoch 80/100\n",
            "536/536 [==============================] - 1s 1ms/step - loss: 0.3320 - accuracy: 0.8670 - val_loss: 0.3628 - val_accuracy: 0.8527\n",
            "Epoch 81/100\n",
            "536/536 [==============================] - 1s 1ms/step - loss: 0.3320 - accuracy: 0.8677 - val_loss: 0.3636 - val_accuracy: 0.8508\n",
            "Epoch 82/100\n",
            "536/536 [==============================] - 1s 1ms/step - loss: 0.3319 - accuracy: 0.8649 - val_loss: 0.3610 - val_accuracy: 0.8501\n",
            "Epoch 83/100\n",
            "536/536 [==============================] - 1s 1ms/step - loss: 0.3315 - accuracy: 0.8658 - val_loss: 0.3689 - val_accuracy: 0.8504\n",
            "Epoch 84/100\n",
            "536/536 [==============================] - 1s 1ms/step - loss: 0.3311 - accuracy: 0.8642 - val_loss: 0.3662 - val_accuracy: 0.8516\n",
            "Epoch 85/100\n",
            "536/536 [==============================] - 1s 1ms/step - loss: 0.3322 - accuracy: 0.8660 - val_loss: 0.3662 - val_accuracy: 0.8485\n",
            "Epoch 86/100\n",
            "536/536 [==============================] - 1s 1ms/step - loss: 0.3313 - accuracy: 0.8675 - val_loss: 0.3614 - val_accuracy: 0.8455\n",
            "Epoch 87/100\n",
            "536/536 [==============================] - 1s 1ms/step - loss: 0.3304 - accuracy: 0.8656 - val_loss: 0.3615 - val_accuracy: 0.8470\n",
            "Epoch 88/100\n",
            "536/536 [==============================] - 1s 1ms/step - loss: 0.3302 - accuracy: 0.8692 - val_loss: 0.3654 - val_accuracy: 0.8497\n",
            "Epoch 89/100\n",
            "536/536 [==============================] - 1s 1ms/step - loss: 0.3314 - accuracy: 0.8660 - val_loss: 0.3657 - val_accuracy: 0.8504\n",
            "Epoch 90/100\n",
            "536/536 [==============================] - 1s 1ms/step - loss: 0.3317 - accuracy: 0.8670 - val_loss: 0.3629 - val_accuracy: 0.8489\n",
            "Epoch 91/100\n",
            "536/536 [==============================] - 1s 1ms/step - loss: 0.3314 - accuracy: 0.8668 - val_loss: 0.3642 - val_accuracy: 0.8478\n",
            "Epoch 92/100\n",
            "536/536 [==============================] - 1s 1ms/step - loss: 0.3312 - accuracy: 0.8675 - val_loss: 0.3612 - val_accuracy: 0.8474\n",
            "Epoch 93/100\n",
            "536/536 [==============================] - 1s 1ms/step - loss: 0.3315 - accuracy: 0.8668 - val_loss: 0.3668 - val_accuracy: 0.8493\n",
            "Epoch 94/100\n",
            "536/536 [==============================] - 1s 1ms/step - loss: 0.3310 - accuracy: 0.8651 - val_loss: 0.3607 - val_accuracy: 0.8463\n",
            "Epoch 95/100\n",
            "536/536 [==============================] - 1s 1ms/step - loss: 0.3306 - accuracy: 0.8653 - val_loss: 0.3659 - val_accuracy: 0.8497\n",
            "Epoch 96/100\n",
            "536/536 [==============================] - 1s 1ms/step - loss: 0.3302 - accuracy: 0.8683 - val_loss: 0.3703 - val_accuracy: 0.8482\n",
            "Epoch 97/100\n",
            "536/536 [==============================] - 1s 1ms/step - loss: 0.3306 - accuracy: 0.8658 - val_loss: 0.3617 - val_accuracy: 0.8512\n",
            "Epoch 98/100\n",
            "536/536 [==============================] - 1s 1ms/step - loss: 0.3310 - accuracy: 0.8645 - val_loss: 0.3619 - val_accuracy: 0.8489\n",
            "Epoch 99/100\n",
            "536/536 [==============================] - 1s 1ms/step - loss: 0.3298 - accuracy: 0.8666 - val_loss: 0.3643 - val_accuracy: 0.8497\n",
            "Epoch 100/100\n",
            "536/536 [==============================] - 1s 1ms/step - loss: 0.3306 - accuracy: 0.8666 - val_loss: 0.3720 - val_accuracy: 0.8474\n"
          ],
          "name": "stdout"
        },
        {
          "output_type": "execute_result",
          "data": {
            "text/plain": [
              "<tensorflow.python.keras.callbacks.History at 0x7fa8743c36d8>"
            ]
          },
          "metadata": {
            "tags": []
          },
          "execution_count": 17
        }
      ]
    },
    {
      "cell_type": "code",
      "metadata": {
        "id": "hU3zoGRQqRfG",
        "outputId": "07acda4f-b686-4d55-c49c-48364985ab47",
        "colab": {
          "base_uri": "https://localhost:8080/"
        }
      },
      "source": [
        "print(model.history.keys())"
      ],
      "execution_count": 25,
      "outputs": [
        {
          "output_type": "stream",
          "text": [
            "dict_keys(['loss', 'accuracy', 'val_loss', 'val_accuracy'])\n"
          ],
          "name": "stdout"
        }
      ]
    },
    {
      "cell_type": "code",
      "metadata": {
        "id": "QvNOtQ8-qX-t",
        "outputId": "22f91baf-7806-4c16-ee03-0a375dafe022",
        "colab": {
          "base_uri": "https://localhost:8080/",
          "height": 295
        }
      },
      "source": [
        "import matplotlib.pyplot as plt\n",
        "plt.plot(model.history['accuracy'])\n",
        "plt.plot(model.history['val_accuracy'])\n",
        "plt.title('model accuracy')\n",
        "plt.ylabel('accuracy')\n",
        "plt.xlabel('epoch')\n",
        "plt.legend(['train', 'test'], loc='lower right')\n",
        "plt.show()"
      ],
      "execution_count": 28,
      "outputs": [
        {
          "output_type": "display_data",
          "data": {
            "image/png": "[encoded data removed]",
            "text/plain": [
              "<Figure size 432x288 with 1 Axes>"
            ]
          },
          "metadata": {
            "tags": [],
            "needs_background": "light"
          }
        }
      ]
    },
    {
      "cell_type": "code",
      "metadata": {
        "id": "ySnUiuXarcMt",
        "outputId": "6fb70dc2-7175-4b20-ab1f-6bb6d6576116",
        "colab": {
          "base_uri": "https://localhost:8080/",
          "height": 295
        }
      },
      "source": [
        "plt.plot(model.history['loss'])\n",
        "plt.plot(model.history['val_loss'])\n",
        "plt.title('model loss')\n",
        "plt.ylabel('loss')\n",
        "plt.xlabel('epoch')\n",
        "plt.legend(['train', 'test'], loc='upper left')\n",
        "plt.show()"
      ],
      "execution_count": 29,
      "outputs": [
        {
          "output_type": "display_data",
          "data": {
            "image/png": "[encoded data removed]",
            "text/plain": [
              "<Figure size 432x288 with 1 Axes>"
            ]
          },
          "metadata": {
            "tags": [],
            "needs_background": "light"
          }
        }
      ]
    },
    {
      "cell_type": "code",
      "metadata": {
        "id": "kx6SNDRDmdXx"
      },
      "source": [
        "y_pred=classifier.predict(x_test)\n",
        "y_pred=(y_pred > 0.5)"
      ],
      "execution_count": 23,
      "outputs": []
    },
    {
      "cell_type": "code",
      "metadata": {
        "id": "ayNYLYTqoAe8",
        "outputId": "85849859-76e4-4429-98f2-c24fd5a10743",
        "colab": {
          "base_uri": "https://localhost:8080/"
        }
      },
      "source": [
        "from sklearn.metrics import confusion_matrix,accuracy_score\n",
        "print(confusion_matrix(y_test,y_pred))\n",
        "print(accuracy_score(y_test,y_pred))"
      ],
      "execution_count": 24,
      "outputs": [
        {
          "output_type": "stream",
          "text": [
            "[[1556   50]\n",
            " [ 221  173]]\n",
            "0.8645\n"
          ],
          "name": "stdout"
        }
      ]
    }
  ]
}